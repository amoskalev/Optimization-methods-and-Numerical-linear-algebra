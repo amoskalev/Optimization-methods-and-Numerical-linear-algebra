{
 "cells": [
  {
   "cell_type": "markdown",
   "metadata": {},
   "source": [
    "# Moskalev Artem"
   ]
  },
  {
   "cell_type": "markdown",
   "metadata": {},
   "source": [
    "# Problem 1 (LU decomposition)\n",
    "## 30 pts"
   ]
  },
  {
   "cell_type": "markdown",
   "metadata": {},
   "source": [
    "### 1. LU for band matrices (5 pts)\n",
    "\n",
    "The complexity to find an LU decomposition of a dense $n\\times n$ matrix is $\\mathcal{O}(n^3)$.\n",
    "Significant reduction in complexity can be achieved if the matrix has a certain structure, e.g. it is sparse. \n",
    "In the following task we consider an important example of $LU$ for a special type of sparse matrices –– tridiagonal matrices.\n",
    "\n",
    "- Find the number of operations to compute an $LU$ decomposition of a tridiagonal matrix taking into account only non-zero elements. How many nonzero elements are in factors $L$, $U$ and where are they located? Conclude what is the complexity to solve a linear system with tridiagonal matrix in terms of $n$. \n",
    "\n",
    "### 2. Completing the proof of existence of LU (10 pts)\n",
    "\n",
    "Some details in lecture proofs about $LU$ were omitted. Let us complete them.\n",
    "- Prove that if $LU$ decomposition exists, then matrix is strictly regular.\n",
    "- Prove that if $A$ is strictly regular, then $A_1 = D - \\frac 1a b c^T$ (see lectures for notations) is also strictly regular.\n",
    "\n",
    "### 3. Stability of LU (10 pts)\n",
    "\n",
    "Let\n",
    "$A = \\begin{pmatrix}\n",
    "a & 1 & 0\\\\\n",
    "1 & 1 & 1 \\\\\n",
    "0 & 1 & 1\n",
    "\\end{pmatrix}.$ \n",
    "* Find analytically an $LU$ decomposition of the matrix $A$.\n",
    "* For what values of $a$ does the LU decomposition of $A$ exist?\n",
    "* Explain, why can the LU decomposition fail to approximate factors $L$ and $U$ for $|a|\\ll 1$ in computer arithmetic?\n",
    "How can this problem be solved?\n",
    "\n",
    "\n",
    "### 4. Block LU (5 pts)\n",
    "\n",
    "Let $A = \\begin{bmatrix} A_{11} & A_{12} \\\\ A_{21} & A_{22} \\end{bmatrix}$ be a block matrix. The goal is to solve the linear system\n",
    "$$\n",
    "     \\begin{bmatrix} A_{11} & A_{12} \\\\ A_{21} & A_{22} \\end{bmatrix} \\begin{bmatrix} u_1 \\\\ u_2 \\end{bmatrix} = \\begin{bmatrix} f_1 \\\\ f_2 \\end{bmatrix}.\n",
    "$$\n",
    "\n",
    "* Using block elimination find matrix $S$ and right-hand side $f_2$ so that $u_2$ can be found from $S u_2 = f_2$. Note that the matrix $S$ is called <font color='red'> Schur complement </font> of the block $A_{11}$."
   ]
  },
  {
   "cell_type": "markdown",
   "metadata": {},
   "source": [
    "### Task 1"
   ]
  },
  {
   "cell_type": "markdown",
   "metadata": {},
   "source": [
    "- $L$ and $U$ matrices will both be bidiagonal and will consist of $2n-1$ elements each.<br>\n",
    "<br>\n",
    "- An order for tridiagonal matrix LU decomposition will be $\\mathcal{O}(n)$. Number of operations required is $3(n-1)+1$<br>\n",
    "<br>\n",
    "- In terms of number of operations, while solwing system with $LU$ we have to perform $3(n−1)$ additions, $3(n−1)$ multiplications, and $2n$ divisions. Thus, in total we have $8n−6$ operations"
   ]
  },
  {
   "cell_type": "markdown",
   "metadata": {},
   "source": [
    "### Task 2"
   ]
  },
  {
   "cell_type": "markdown",
   "metadata": {},
   "source": [
    "If $LU$ exists, that means that matrices $L$ and $U$ are non-singular at least (They have no zero elements on diagonal by definition).<br>\n",
    "Matrix $A$ is called stricktly regular if all of its principal minors are non-singular. Meanwhile, each principle minor is obtained from corresponding minors from U and L."
   ]
  },
  {
   "cell_type": "markdown",
   "metadata": {
    "collapsed": true
   },
   "source": [
    "### Task 3"
   ]
  },
  {
   "cell_type": "markdown",
   "metadata": {},
   "source": [
    "- $A = \\begin{pmatrix}\n",
    "a & 1 & 0\\\\\n",
    "1 & 1 & 1 \\\\\n",
    "0 & 1 & 1\n",
    "\\end{pmatrix}$\n",
    "<br>\n",
    "<br>\n",
    "$\\begin{pmatrix}\n",
    "1 & 0 & 0\\\\\n",
    "-\\frac1a & 1 & 0 \\\\\n",
    "0 & 0 & 1\n",
    "\\end{pmatrix}_{E_{21}}$\n",
    "$\\begin{pmatrix}\n",
    "a & 1 & 0\\\\\n",
    "1 & 1 & 1 \\\\\n",
    "0 & 1 & 1\n",
    "\\end{pmatrix}=$\n",
    "$\\begin{pmatrix}\n",
    "a & 1 & 0\\\\\n",
    "0 & 1-\\frac1a & 1 \\\\\n",
    "0 & 1 & 1\n",
    "\\end{pmatrix}$ if $a\\neq0$\n",
    "<br>\n",
    "<br>\n",
    "$\\begin{pmatrix}\n",
    "1 & 0 & 0\\\\\n",
    "0 & 1 & 0 \\\\\n",
    "0 & 0 & 1\n",
    "\\end{pmatrix}_{E_{31}}$\n",
    "$\\begin{pmatrix}\n",
    "a & 1 & 0\\\\\n",
    "0 & 1 & 1 \\\\\n",
    "0 & 1 & 1\n",
    "\\end{pmatrix}=$\n",
    "$\\begin{pmatrix}\n",
    "a & 1 & 0\\\\\n",
    "0 & 1-\\frac1a & 1 \\\\\n",
    "0 & 1 & 1\n",
    "\\end{pmatrix}$\n",
    "<br>\n",
    "<br>\n",
    "$\\begin{pmatrix}\n",
    "1 & 0 & 0\\\\\n",
    "0 & 1 & 0 \\\\\n",
    "0 &-\\frac{a}{a-1} & 1\n",
    "\\end{pmatrix}_{E_{32}}$\n",
    "$\\begin{pmatrix}\n",
    "a & 1 & 0\\\\\n",
    "0 & 1 & 1 \\\\\n",
    "0 & 1 & 1\n",
    "\\end{pmatrix}=$\n",
    "$\\begin{pmatrix}\n",
    "a & 1 & 0\\\\\n",
    "0 & 1-\\frac1a & 1 \\\\\n",
    "0 & 0 & -\\frac{a}{a-1}\n",
    "\\end{pmatrix}_U$ if $a\\neq1$<br>\n",
    "<br>\n",
    "<br>\n",
    "$\\begin{pmatrix}\n",
    "1 & 0 & 0\\\\\n",
    "0 & 1 & 0 \\\\\n",
    "0 &-\\frac{a}{a-1} & 1\n",
    "\\end{pmatrix}_{E_{32}}$\n",
    "$\\begin{pmatrix}\n",
    "1 & 0 & 0\\\\\n",
    "0 & 1 & 0 \\\\\n",
    "0 & 0 & 1\n",
    "\\end{pmatrix}_{E_{31}}$\n",
    "$\\begin{pmatrix}\n",
    "1 & 0 & 0\\\\\n",
    "-\\frac1a & 1 & 0 \\\\\n",
    "0 & 0 & 1\n",
    "\\end{pmatrix}_{E_{21}}$\n",
    "$\\begin{pmatrix}\n",
    "a & 1 & 0\\\\\n",
    "1 & 1 & 1 \\\\\n",
    "0 & 1 & 1\n",
    "\\end{pmatrix}_A=$\n",
    "$\\begin{pmatrix}\n",
    "a & 1 & 0\\\\\n",
    "0 & 1-\\frac1a & 1 \\\\\n",
    "0 & 0 & -\\frac{a}{a-1}\n",
    "\\end{pmatrix}_U$<br>\n",
    "<br>\n",
    "Thus, we have:\n",
    "<br>\n",
    "<br>\n",
    "$(1)$ $E_{32}E_{31}E_{21}A=U,$ I suggest to omit matrix $E_{31}$ because it is just an identity matrix, so we can rewrite $(1)$ as:\n",
    "<br>\n",
    "<br>\n",
    "$A=E_{21}^{-1}E_{32}^{-1}U$\n",
    "<br>\n",
    "<br>\n",
    "$A=\\begin{pmatrix}\n",
    "1 & 0 & 0\\\\\n",
    "\\frac{1}{a} & 1 & 0 \\\\\n",
    "0 & \\frac{a}{a-1} & 1\n",
    "\\end{pmatrix}_L$\n",
    "$\\begin{pmatrix}\n",
    "a & 1 & 0\\\\\n",
    "0 & 1-\\frac1a & 1 \\\\\n",
    "0 & 0 & -\\frac1{a-1}\n",
    "\\end{pmatrix}_U=$\n",
    "$\\begin{pmatrix}\n",
    "a & 1 & 0\\\\\n",
    "1 & 1 & 1 \\\\\n",
    "0 & 1 & 1\n",
    "\\end{pmatrix}$<br>\n",
    "<br>\n",
    "- LU exist when $a\\neq0, a\\neq1$<br>\n",
    "<br>\n",
    "- LU fails to approximate L and U if $|a|\\ll 1$. Indeed, the presence of small pivots leads to instability. When computations are performed in floating point arithmetic, the number is not represented exactly but will be rounded to the nearest floating point. That causes error. Gradually, such error is accumulated heavily and makes LU decomposition to fail."
   ]
  },
  {
   "cell_type": "markdown",
   "metadata": {},
   "source": [
    "### Task 4"
   ]
  },
  {
   "cell_type": "markdown",
   "metadata": {},
   "source": [
    "### 4. Block LU (5 pts)\n",
    "\n",
    "Let $A = \\begin{bmatrix} A_{11} & A_{12} \\\\ A_{21} & A_{22} \\end{bmatrix}$ be a block matrix. The goal is to solve the linear system\n",
    "$$\n",
    "     \\begin{bmatrix} A_{11} & A_{12} \\\\ A_{21} & A_{22} \\end{bmatrix} \\begin{bmatrix} u_1 \\\\ u_2 \\end{bmatrix} = \\begin{bmatrix} f_1 \\\\ f_2 \\end{bmatrix}.\n",
    "$$\n",
    "\n",
    "* Using block elimination find matrix $S$ and right-hand side $f_2$ so that $u_2$ can be found from $S u_2 = f_2$. Note that the matrix $S$ is called <font color='red'> Schur complement </font> of the block $A_{11}$."
   ]
  },
  {
   "cell_type": "markdown",
   "metadata": {},
   "source": [
    "$$\\begin{pmatrix} A_{11} & A_{12} \\\\ A_{21} & A_{22} \\end{pmatrix}$$\n",
    "<center> Let's perform elimination process:\n",
    "$$\\begin{pmatrix} A_{11} & A_{12} \\\\ A_{21} - A_{21}A_{11}^{-1}A_{11} & A_{22}- A_{21}A_{11}^{-1}A_{12} \\end{pmatrix}$$ = \n",
    "$$\\begin{pmatrix} A_{11} & A_{12} \\\\ O & A_{22}- A_{21}A_{11}^{-1}A_{12} \\end{pmatrix}$$\n",
    "\n",
    "<center>Thus,$S = A_{22}- A_{21}A_{11}^{-1}A_{12}$."
   ]
  },
  {
   "cell_type": "markdown",
   "metadata": {},
   "source": [
    "# Problem 2 (QR decomposition) \n",
    "\n",
    "## 20 pts\n",
    "\n",
    "### 1. Standard Gram-Schmidt algorithm (10 pts)\n",
    "Our goal now is to orthogonalize a system of linearly independent vectors $v_1,\\dots,v_n$.\n",
    "The standard algorithm for the task is the Gram-Schmidt algorithm:\n",
    "\n",
    "$$\n",
    "\\begin{split}\n",
    "u_1 &= v_1, \\\\\n",
    "u_2 &= v_2 - \\frac{(v_2, u_1)}{(u_1, u_1)} u_1, \\\\\n",
    "\\dots \\\\\n",
    "u_n &= v_n - \\frac{(v_n, u_1)}{(u_1, u_1)} u_1 - \\frac{(v_n, u_2)}{(u_2, u_2)} u_2 - \\dots - \\frac{(v_n, u_{n-1})}{(u_{n-1}, u_{n-1})} u_{n-1}.\n",
    "\\end{split}\n",
    "$$\n",
    "\n",
    "Now $u_1, \\dots, u_n$ are orthogonal vectors in exact arithmetics. Then to get orthonormal system you should divide each of the vectors by its norm: $u_i := u_i/\\|u_i\\|$.\n",
    "The Gram-Schidt process can be viewed as a QR decomposition. Let us show that."
   ]
  },
  {
   "cell_type": "markdown",
   "metadata": {},
   "source": [
    "* Write out what is $Q$ and $R$ obtained in the process described. \n",
    "\n",
    "\n",
    "* Implement the described Gram-Schmidt algorithm as a function ```gram_schmidt(A)```, which outputs ```Q,R``` and check it on a random $100\\times 100$ matrix $B.$ Print out the error. \n",
    "\n",
    "**Note:** To check orthogonality calculate the matrix of scalar products $G_{ij} = (u_i, u_j)$ (called <font color='red'> Gram matrix </font> of set of vectors $u_1,\\dots, u_n$) which should be equal to the identity matrix $I.$ Error $\\|G - I\\|_2$ will show you how far is the system $u_i$ from orthonormal.\n",
    "\n",
    "\n",
    "* Create a Hilbert matrix $A$ of size $100\\times 100$ without using loops.\n",
    "Othogonalize its columns by the described Gram-Schmidt algorithm. Is the Gram matrix close to the identity matrix in this case? Why?\n",
    "\n",
    "\n",
    "The observed loss of orthogonality is a problem of this particular algorithm. To avoid it [modified Gram-Schmidt algorithm](https://en.wikipedia.org/wiki/Gram%E2%80%93Schmidt_process#Numerical_stability), QR via Householder reflections or Givens rotations can be used."
   ]
  },
  {
   "cell_type": "markdown",
   "metadata": {},
   "source": [
    " - Let $A = \\begin{bmatrix} a_1 & a_2 \\end{bmatrix}$. Then:<br>\n",
    "<br>\n",
    "$\\begin{bmatrix} a_1 & a_2 \\end{bmatrix}_A=\\begin{bmatrix} q_1 & q_2 \\end{bmatrix}_Q\n",
    "\\begin{bmatrix} a_1^Tq_1 & a_2^Tq_1 \\\\ a_1^Tq_2 & a_2^Tq_2 \\end{bmatrix}_R$<br>\n",
    "<br>\n",
    "Where $Q$ is unitary and $R$ is upper-triangular"
   ]
  },
  {
   "cell_type": "code",
   "execution_count": 1,
   "metadata": {
    "collapsed": true
   },
   "outputs": [],
   "source": [
    "# INPUT : rectangular matrix A\n",
    "# OUTPUT: matrices Q - orthogonal and R - upper triangular such that A=QR\n",
    "def gram_schmidt(A): # 5 pts\n",
    "    # enter your code here\n",
    "    Q = np.zeros(A.shape)\n",
    "    q_1 = A[:,0].copy()\n",
    "    q_1 = q_1/np.linalg.norm(q_1)\n",
    "    Q[:,0] = q_1\n",
    "    for each_column in range(1,A.shape[1]):\n",
    "        q = A[:,each_column].copy()\n",
    "        for i in range(0,each_column):\n",
    "            q = q - np.dot((np.dot(q,Q[:,i])),Q[:,i])\n",
    "        q /= np.linalg.norm(q)\n",
    "        Q[:,each_column] = q\n",
    "    R=np.dot(Q.T,A)\n",
    "    return np.matrix(Q), np.matrix(R)"
   ]
  },
  {
   "cell_type": "markdown",
   "metadata": {},
   "source": [
    "Now, let's create $100x100$ random matrix $B$ and perform QR decomposition with our algorithm."
   ]
  },
  {
   "cell_type": "code",
   "execution_count": 2,
   "metadata": {
    "collapsed": true
   },
   "outputs": [],
   "source": [
    "import numpy as np\n",
    "B=np.random.rand(100,100)*10\n",
    "Q,R = gram_schmidt(B)"
   ]
  },
  {
   "cell_type": "markdown",
   "metadata": {},
   "source": [
    "Next, we want to know how is far our matrix from orthogonality. For this we will compute Gram matrix:"
   ]
  },
  {
   "cell_type": "code",
   "execution_count": 3,
   "metadata": {},
   "outputs": [
    {
     "name": "stdout",
     "output_type": "stream",
     "text": [
      "Gram-Schmidt error: 1.61493377299e-14\n"
     ]
    }
   ],
   "source": [
    "def gram_matrix(Q):\n",
    "    G = np.zeros(Q.shape)\n",
    "    Q = np.array(Q)\n",
    "    for i in range(Q.shape[1]):\n",
    "        for j in range(Q.shape[0]):\n",
    "            G[j,i] = np.dot(Q[:,j], Q[:,i])\n",
    "    return np.matrix(G)\n",
    "\n",
    "print('Gram-Schmidt error:',np.linalg.norm(gram_matrix(Q)-np.identity(100),2))"
   ]
  },
  {
   "cell_type": "code",
   "execution_count": 4,
   "metadata": {
    "collapsed": true
   },
   "outputs": [],
   "source": [
    "def create_Hilbert(dim):\n",
    "    i = j = np.arange(1,dim+1,1)\n",
    "    ii,jj = np.meshgrid(i,j)\n",
    "    G = ii+jj\n",
    "    G-=1\n",
    "    G_func=np.vectorize(lambda x: np.power(x,-1.))\n",
    "    return G_func(G)"
   ]
  },
  {
   "cell_type": "code",
   "execution_count": 5,
   "metadata": {},
   "outputs": [
    {
     "name": "stdout",
     "output_type": "stream",
     "text": [
      "Gram-Schmidt error on Hilbert matrix: 0.999994762472\n"
     ]
    }
   ],
   "source": [
    "A = create_Hilbert(100)\n",
    "Q,R = gram_schmidt(A)\n",
    "print('Gram-Schmidt error on Hilbert matrix:',np.linalg.norm(gram_matrix(Q)-np.identity(100),2))"
   ]
  },
  {
   "cell_type": "markdown",
   "metadata": {},
   "source": [
    "### 2. Householder QR (10 pts)\n",
    "\n",
    "* Implement Householder QR decomposition as a function ```householder_qr(A)``` which outputs ```Q,R```. Apply it to the matrix $B$ created above. Print out the error.\n",
    "\n",
    "\n",
    "* Apply it to the Hilbert matrix $A$ created in the first part of the problem and print out the error. Consider how stable is Householder compared to Gram-Schmidt. "
   ]
  },
  {
   "cell_type": "code",
   "execution_count": 6,
   "metadata": {
    "collapsed": true
   },
   "outputs": [],
   "source": [
    "# INPUT : rectangular matrix A\n",
    "# OUTPUT: matrices Q - orthogonal and R - upper triangular such that A=QR\n",
    "def householder_qr(A): # 7 pts\n",
    "    Hs = list()\n",
    "    Rs=list()\n",
    "    Rs.append(A)\n",
    "    def get_H_for_submatrix(A):\n",
    "        vec_v = A[:,0]\n",
    "        w = np.zeros(vec_v.shape)\n",
    "        w[0] = np.linalg.norm(vec_v)\n",
    "        v = w - vec_v\n",
    "        P = np.outer(v,v.T)/np.dot(v.T,v) #np.inner()\n",
    "        H=np.identity(P.shape[0])-2*P\n",
    "        return H\n",
    "    H_1=get_H_for_submatrix(A)\n",
    "    size=H_1.shape[0]\n",
    "    Hs.append(H_1)\n",
    "    Q=H_1.copy()\n",
    "    for each_column in range(1,A.shape[1]-1):\n",
    "        if each_column==1:\n",
    "            sub_matrix = np.dot(Hs[-1], Rs[-1])\n",
    "        else:\n",
    "            sub_matrix=Rs[-1]\n",
    "        H_ = get_H_for_submatrix(sub_matrix[each_column:,each_column:])\n",
    "        householder = np.identity(size)\n",
    "        householder[each_column:,each_column:] = H_.copy()\n",
    "        Hs.append(householder)\n",
    "        Rs.append(np.dot(householder,sub_matrix))\n",
    "        Q=np.dot(Q,householder)\n",
    "    return np.matrix(Q), np.matrix(Rs[-1])"
   ]
  },
  {
   "cell_type": "code",
   "execution_count": 7,
   "metadata": {},
   "outputs": [
    {
     "name": "stdout",
     "output_type": "stream",
     "text": [
      "Householder error: 7.55836474173e-15\n"
     ]
    }
   ],
   "source": [
    "Q, R = householder_qr(B)\n",
    "print('Householder error:',np.linalg.norm(gram_matrix(Q)-np.identity(100),2))"
   ]
  },
  {
   "cell_type": "code",
   "execution_count": 8,
   "metadata": {},
   "outputs": [
    {
     "name": "stdout",
     "output_type": "stream",
     "text": [
      "Householder error on Hilbert matrix: 7.87884820929e-15\n"
     ]
    }
   ],
   "source": [
    "B = create_Hilbert(100)\n",
    "Q,R = householder_qr(B)\n",
    "print('Householder error on Hilbert matrix:',np.linalg.norm(gram_matrix(Q)-np.identity(100),2))"
   ]
  },
  {
   "cell_type": "markdown",
   "metadata": {},
   "source": [
    "# Problem 3 (Low-rank decompositions)\n",
    "\n",
    "## 45 pts\n",
    "\n",
    "## 1. Theoretical tasks (15 pts)\n",
    "\n",
    "* Prove that for any Hermitian matrix, singular values equal to absolute value of eigenvalues. Does this hold for a general matrix? Prove or provide a counterexample.\n",
    "\n",
    "\n",
    "* Find analytically a skeleton decomposition of the matrix of size $n\\times m$ with elements $a_{ij} = \\sin i + \\sin j$.\n",
    "\n",
    "\n",
    "* Let $A\\in\\mathbb{C}^{n\\times m}$ be of rank $r$ and let $A = U\\Sigma V^*$ be its SVD. Prove that $\\mathrm{im}(A^*) = \\mathrm{span}\\{v_1,\\dots, v_r\\}$, where $V = [v_1, \\dots, v_n]$."
   ]
  },
  {
   "cell_type": "markdown",
   "metadata": {},
   "source": [
    "##### Problem 3.1 (a)"
   ]
  },
  {
   "cell_type": "code",
   "execution_count": 9,
   "metadata": {},
   "outputs": [
    {
     "name": "stdout",
     "output_type": "stream",
     "text": [
      "Singular values: [ 6.31204578  3.16512506  2.85307929]\n",
      "Lambdas:  [ 3.16512506  6.31204578  2.85307929]\n"
     ]
    }
   ],
   "source": [
    "herm = np.matrix([[2,2+1j,4],[2-1j,3,1j],[4,-1j,1]])\n",
    "\n",
    "ls,s = np.linalg.eig(herm)[0],np.linalg.svd(herm)[1]\n",
    "print('Singular values:',s)\n",
    "print('Lambdas: ',np.abs(ls))"
   ]
  },
  {
   "cell_type": "markdown",
   "metadata": {},
   "source": [
    "Since $A \\in \\mathbb{C}^{n\\times n}$ is Hermitian, $A^*A = A^2$.\n",
    "\n",
    "Singular values $\\sigma_1 \\geq, \\dots, \\geq \\sigma_n \\geq 0 $ of $A$ are square roots of eigenvalues of $A^*A$, hence, $\\sigma_1^2,\\dots,\\sigma_n^2$ -- eigenvalues of $A^2$. If $\\lambda_1,\\dots,\\lambda_n$ are eigenvalues of $A$, then (if renumber lamdas) $\\lambda_i^2 = \\sigma_i^2, \\sigma_i \\geq 0, i = 1,\\dots,n \\Rightarrow \\left|\\lambda_i \\right| = \\sigma_i, i = 1\\dots,n.$\n",
    "\n",
    "It's doesn't hold in the general case, consider the following matrix:"
   ]
  },
  {
   "cell_type": "markdown",
   "metadata": {},
   "source": [
    "$A$ is Hermitian, so $A^2=A^*A$<br>\n",
    "The eigenvalues of $A^2$ are squared singular values of $A$. Thus, $\\lambda_1,...,\\lambda_n=\\sigma_1^2,...,\\sigma_n^2$, where $\\lambda_i$ - eigenvalues of $A^2$ and $\\sigma_i$ - singular values of $A$ (both localed in the descending order).<br>\n",
    "$\\lambda_i^2=\\sigma_i^2, \\sigma_i\\geq0$, hence, $|\\lambda_i|=\\sigma_i, i = 1,...,n$<br>\n",
    "<br>\n",
    "However, it is not true for general case, consider the matrix:<br>\n",
    "<br>\n",
    "$\\begin{pmatrix}\n",
    "2 & 2 \\\\\n",
    "-1 & 1 \\\\\n",
    "\\end{pmatrix}$"
   ]
  },
  {
   "cell_type": "code",
   "execution_count": 10,
   "metadata": {},
   "outputs": [
    {
     "name": "stdout",
     "output_type": "stream",
     "text": [
      "Singular values: [ 2.82842712  1.41421356]\n",
      "Lambdas:  [ 2.  2.]\n"
     ]
    }
   ],
   "source": [
    "contr = np.matrix([[2,2],[-1,1]])\n",
    "\n",
    "ls,s = np.linalg.eig(contr)[0],np.linalg.svd(contr)[1]\n",
    "print('Singular values:',s)\n",
    "print('Lambdas: ',np.abs(ls))"
   ]
  },
  {
   "cell_type": "markdown",
   "metadata": {},
   "source": [
    "##### Problem 3.1 (b)"
   ]
  },
  {
   "cell_type": "markdown",
   "metadata": {},
   "source": [
    "Skeleton decomposition: $A = C {\\hat A^{-1}}R$<br>\n",
    "$rank(A)=2$, if we substract the first row from all others: <br>\n",
    "<br>\n",
    "$\\begin{pmatrix} \\sin1+\\sin1 & \\sin1+\\sin2 & ... & \\sin1+\\sin m\\\\\n",
    "                 \\sin2-\\sin1 & \\sin2-\\sin1 & ... & \\sin2-\\sin1 \\\\\n",
    "                 \\vdots    & \\vdots & \\ddots & \\vdots    \\\\\n",
    "                 \\sin n-\\sin1& \\sin n-\\sin1& ... & \\sin n-\\sin1\\\\\n",
    "                 \\end{pmatrix}$, we will see that the rank is exactly 2<br>\n",
    "<br>\n",
    "\n",
    "Thus, our $\\hat A = \n",
    "\\begin {pmatrix}\n",
    "2\\sin1 & \\sin 1 + \\sin 2\\\\\n",
    "\\sin 2 + \\sin 1 & 2\\sin 2\n",
    "\\end{pmatrix}\n",
    "$,<br>\n",
    "\n",
    "$\\hat A^{-1} = \\frac{1}{(\\sin 1 - \\sin 2)^2}\n",
    "\\begin{pmatrix}\n",
    "-2\\sin 2 & \\sin 1 + \\sin 2\\\\\n",
    "\\sin 2 + \\sin 1 & -2\\sin 1\n",
    "\\end{pmatrix}\n",
    "$<br>\n",
    "<br>\n",
    "So, let's compute the rest:<br>\n",
    "$R =\n",
    "\\begin{pmatrix}\n",
    "2\\sin 1 & \\sin 1 + \\sin 2 & \\dots & \\sin 1 + \\sin m\\\\\n",
    "\\sin 2 + \\sin 1 & \\sin 2 + \\sin 2 & \\dots & \\sin 2 + \\sin m\\\\\n",
    "\\end{pmatrix}\n",
    "$<br>\n",
    "\n",
    "$C = \n",
    "\\begin {pmatrix}\n",
    "2\\sin 1 & \\sin 1 + \\sin 2\\\\\n",
    "\\sin 2 + \\sin 1 & \\sin 2 + \\sin 2\\\\\n",
    "\\vdots & \\vdots\\\\\n",
    "\\sin n + \\sin 1 & \\sin n + \\sin 2 &\\\\\n",
    "\\end{pmatrix}\n",
    "$<br>\n",
    "$A = C {\\hat A^{-1}}R$, so we now $C$,$\\hat A^{-1}$, $R$"
   ]
  },
  {
   "cell_type": "markdown",
   "metadata": {},
   "source": [
    "##### Problem 3.1 (c)"
   ]
  },
  {
   "cell_type": "markdown",
   "metadata": {},
   "source": [
    "Consider $V=\\{v_1,...,v_n\\}$ - an orthonormal basis of eigenvectors of $A^*A$<br>\n",
    "<br>\n",
    "$Im(A)=span(Av_1,...,Av_n)=span(Av_1,...,Av_r)$<br>\n",
    "<br>\n",
    "However, since $(Av_i)^*(Av_j)=\\sigma^2v_i^*v_j=\\sigma^2_i\\delta_{ij}$<br>\n",
    "<br>\n",
    "So, $ImA^*=span(A*Av_1,...,A*Av_r)=span(v_1,...,v_r)$"
   ]
  },
  {
   "cell_type": "markdown",
   "metadata": {},
   "source": [
    "## 2. Recommender system using SVD (30 pts)\n",
    "\n",
    "In this task you are asked to build a simple movie recommender system based on *collaborative filtering* approach and SVD.\n",
    "Collaborative filtering implies that you build recommendations based on the feedback of other users given in a matrix $\\mathbf{M}$ of users vs. movies. \n",
    "If a user $i$ watched a movie $j$ and rated it, say, as $3$ out of $5$, then the value $3$ is the corresponding matrix entry, i.e. $\\mathbf{M}_{i,j}=3$.\n",
    "If a user did not watch a movie, then we put $0$ as a matrix element, i.e. $\\mathbf{M}=0$. \n",
    "Hence, the matrix is sparse."
   ]
  },
  {
   "cell_type": "markdown",
   "metadata": {},
   "source": [
    "### Task 1. Building the core of recommender (15 pts)\n",
    "\n",
    "Build representation of users and movies in the latent factors space with the help of SVD.\n",
    "\n",
    "* We test the SVD model on a [Movielens 10M](https://grouplens.org/datasets/movielens/) dataset. Download the dataset using python functions provided in the following [Jupyter notebook](movielens10m.ipynb).\n",
    "\n",
    "\n",
    "* Is it possible to use ```np.linalg.svd``` function to calculate SVD of the downloaded matrices on your laptop? Provide an estimate.\n",
    "\n",
    "\n",
    "* Implement function `tr_svd` so that it computes truncated SVD using `scipy.linalg.svds`:\n",
    "    * Be aware that `scipy` returns singular values in ascending order (see the [docs](https://docs.scipy.org/doc/scipy-0.14.0/reference/generated/scipy.sparse.linalg.svds.html)).\n",
    "    * Sort all your svd data in descending (by singular values) order without breaking the result.\n",
    "    \n",
    "\n",
    "* Fix the rank of approximation and compute truncated SVD with `tr_svd` of the training set of the dataset. Plot the obtained singular values. Can you tell from the plot whether the data has a low-rank structure? Give your intuition, why it happens?\n",
    "\n",
    "\n",
    "* Write the function `top_n` which takes user as a row of his/her ratings (including non-rated films, i.e. just a row from the train\\test set), integer number $N$ and returns array of indices which correspond to $N$ highest ratings. Use function `np.argsort()`.\n",
    "\n",
    "\n",
    "* Pick several users at random from the training set. Compare their top-10 films and top-10, suggested by your model ($A_k = U_k \\Sigma_k V_k^T$). Comment on the result. **Note:** you can run all tests in this task with $k=25$."
   ]
  },
  {
   "cell_type": "code",
   "execution_count": 60,
   "metadata": {
    "collapsed": true
   },
   "outputs": [],
   "source": [
    "# Libraries and provided functions\n",
    "import pandas as pd\n",
    "import zipfile\n",
    "import wget\n",
    "from io import StringIO \n",
    "import numpy as np\n",
    "import scipy as sp\n",
    "from scipy import sparse\n",
    "import scipy.sparse.linalg\n",
    "from tqdm import tqdm # Very useful library to see progress bar during range iterations: just type `for i in tqdm(range(10)):`\n",
    "from matplotlib import pyplot as plt\n",
    "%matplotlib inline\n",
    "\n",
    "from collections import namedtuple\n",
    "import sys\n",
    "\n",
    "def get_movielens_data(local_file=None):\n",
    "    '''Downloads movielens data, normalizes users and movies ids,\n",
    "    returns data in sparse CSR format.\n",
    "    '''\n",
    "    if not local_file:\n",
    "        print('Downloading data...')\n",
    "        zip_file_url = 'http://files.grouplens.org/datasets/movielens/ml-10m.zip'\n",
    "        zip_contents = wget.download(zip_file_url)\n",
    "        print('Done.')\n",
    "    else:\n",
    "        zip_contents = local_file\n",
    "    \n",
    "    print('Loading data into memory...')\n",
    "    with zipfile.ZipFile(zip_contents) as zfile:\n",
    "        zdata = zfile.read('ml-10M100K/ratings.dat').decode()\n",
    "        delimiter = ';'\n",
    "        zdata = zdata.replace('::', delimiter) # makes data compatible with pandas c-engine\n",
    "        ml_data = pd.read_csv(StringIO(zdata), sep=delimiter, header=None, engine='c',\n",
    "                                  names=['userid', 'movieid', 'rating', 'timestamp'],\n",
    "                                  usecols=['userid', 'movieid', 'rating'])\n",
    "    \n",
    "    # normalize indices to avoid gaps\n",
    "    ml_data['movieid'] = ml_data.groupby('movieid', sort=False).grouper.group_info[0]\n",
    "    ml_data['userid'] = ml_data.groupby('userid', sort=False).grouper.group_info[0]\n",
    "    \n",
    "    # build sparse user-movie matrix\n",
    "    data_shape = ml_data[['userid', 'movieid']].max() + 1\n",
    "    data_matrix = sp.sparse.csr_matrix((ml_data['rating'],\n",
    "                                       (ml_data['userid'], ml_data['movieid'])),\n",
    "                                        shape=data_shape, dtype=np.float64)\n",
    "    \n",
    "    print('Done.')\n",
    "    return data_matrix\n",
    "\n",
    "def split_data(data, test_ratio=0.2):\n",
    "    '''Randomly splits data into training and testing datasets. Default ratio is 80%/20%.\n",
    "    Returns datasets in namedtuple format for convenience. Usage:\n",
    "    \n",
    "    train_data, test_data = split_data(data_matrix)\n",
    "    \n",
    "    or\n",
    "    \n",
    "    movielens_data = split_data(data_matrix)\n",
    "    \n",
    "    and later in code: \n",
    "    \n",
    "    do smth with movielens_data.train \n",
    "    do smth with movielens_data.test\n",
    "    '''\n",
    "    \n",
    "    num_users = data.shape[0]\n",
    "    idx = np.zeros((num_users,), dtype=bool)\n",
    "    sel = np.random.choice(num_users, int(test_ratio*num_users), replace=False)\n",
    "    np.put(idx, sel, True)\n",
    "    \n",
    "    Movielens_data = namedtuple('MovieLens10M', ['train', 'test'])\n",
    "    movielens_data = Movielens_data(train=data[~idx, :], test=data[idx, :])\n",
    "    return movielens_data"
   ]
  },
  {
   "cell_type": "code",
   "execution_count": 61,
   "metadata": {},
   "outputs": [
    {
     "name": "stdout",
     "output_type": "stream",
     "text": [
      "Downloading data...\n",
      "Done.\n",
      "Loading data into memory...\n",
      "Done.\n"
     ]
    }
   ],
   "source": [
    "data=get_movielens_data()"
   ]
  },
  {
   "cell_type": "code",
   "execution_count": 62,
   "metadata": {
    "collapsed": true
   },
   "outputs": [],
   "source": [
    "# INPUT: A: scipy.sparse.csr_matrix (N_train x N_films), k - integer\n",
    "# OUTPUT: U - np.array (N_train x k), S - np.array (k x k), Vh - np.array (k x N_films)\n",
    "def tr_svd(A, k): # 5 pts\n",
    "    U, S, V = sparse.linalg.svds(A, k)\n",
    "    return U[:,::-1], np.diag(S[::-1]), V[::-1]\n",
    "\n",
    "# INPUT: user - np.array (N_films,), N - integer \n",
    "# OUTPUT: np.array (N,)\n",
    "def top_n(user, N): # 2 pts\n",
    "    try:\n",
    "        user = np.squeeze(np.asarray(user.todense()))\n",
    "    except:\n",
    "        pass\n",
    "    sorted_idx = np.flip(np.argsort(user),axis=0)[:N]\n",
    "    return np.array(sorted_idx)"
   ]
  },
  {
   "cell_type": "markdown",
   "metadata": {
    "collapsed": true
   },
   "source": [
    "We will need to store around $10^{11}$ elements, so it's not possible to use simple np.linalg.svd"
   ]
  },
  {
   "cell_type": "code",
   "execution_count": 63,
   "metadata": {
    "collapsed": true
   },
   "outputs": [],
   "source": [
    "data_train, data_test = split_data(data)"
   ]
  },
  {
   "cell_type": "code",
   "execution_count": 64,
   "metadata": {
    "collapsed": true
   },
   "outputs": [],
   "source": [
    "data_train_u,data_train_s,data_train_vh = tr_svd(data_train,k=25)"
   ]
  },
  {
   "cell_type": "code",
   "execution_count": 65,
   "metadata": {},
   "outputs": [
    {
     "data": {
      "text/plain": [
       "<matplotlib.text.Text at 0x7f53b9407438>"
      ]
     },
     "execution_count": 65,
     "metadata": {},
     "output_type": "execute_result"
    },
    {
     "data": {
      "image/png": "[encoded data removed]",
      "text/plain": [
       "<matplotlib.figure.Figure at 0x7f53b9449b00>"
      ]
     },
     "metadata": {},
     "output_type": "display_data"
    }
   ],
   "source": [
    "plt.yscale('log')\n",
    "plt.scatter(np.arange(data_train_s.shape[0]),np.diag(data_train_s),color='r',marker='o')\n",
    "plt.title('SV')\n",
    "plt.xlabel('# Singular Value')\n",
    "plt.ylabel('Singular Value')"
   ]
  },
  {
   "cell_type": "markdown",
   "metadata": {},
   "source": [
    "Singular values after 15th are differ only slightly, so that's why our data does not have low-rank structure"
   ]
  },
  {
   "cell_type": "code",
   "execution_count": 66,
   "metadata": {
    "collapsed": true
   },
   "outputs": [],
   "source": [
    "user_1 = data_train[32].copy()\n",
    "user_2 = data_train[11].copy()\n",
    "user_3 = data_train[214].copy()"
   ]
  },
  {
   "cell_type": "code",
   "execution_count": 67,
   "metadata": {
    "collapsed": true
   },
   "outputs": [],
   "source": [
    "sigma_s = np.diag(data_train_s)\n",
    "\n",
    "prediction_1 = data_train_u[32]@sigma_s\n",
    "#prediction_1 = scipy.sparse.csr_matrix(np.dot(prediction_1,data_train_vh))\n",
    "prediction_1 = scipy.sparse.csr_matrix(np.dot(prediction_1,data_train_vh))\n",
    "\n",
    "\n",
    "prediction_2 = data_train_u[11]@sigma_s\n",
    "#prediction_2 = scipy.sparse.csr_matrix(np.dot(prediction_2,data_train_vh))\n",
    "prediction_2 = np.dot(prediction_2,data_train_vh)\n",
    "\n",
    "\n",
    "prediction_3 = data_train_u[214]@sigma_s\n",
    "#prediction_3 = scipy.sparse.csr_matrix(np.dot(prediction_3,data_train_vh))\n",
    "prediction_3 = np.dot(prediction_3,data_train_vh)"
   ]
  },
  {
   "cell_type": "code",
   "execution_count": 68,
   "metadata": {},
   "outputs": [
    {
     "name": "stdout",
     "output_type": "stream",
     "text": [
      "User 1 actual : [  44  176  612  218  220  403  244  149 1545 2008]\n",
      "User 1 predict: [[  24 1003   34 ...,  399 1481   42]\n",
      " [  26   22   74 ...,   19  140  213]\n",
      " [   7  133   14 ...,  193 1093  605]\n",
      " ..., \n",
      " [1926  329  998 ..., 1122   72  307]\n",
      " [ 195   24  605 ...,   74   18   94]\n",
      " [  64   60  798 ...,  178   24  177]] \n",
      "\n",
      "User 2 actual : [1432   96  139 1003  101 1481 1292  141 1426  133]\n",
      "User 2 predict: [[  24 1003   34 ...,  399 1481   42]\n",
      " [  26   22   74 ...,   19  140  213]\n",
      " [   7  133   14 ...,  193 1093  605]\n",
      " ..., \n",
      " [1926  329  998 ..., 1122   72  307]\n",
      " [ 195   24  605 ...,   74   18   94]\n",
      " [  64   60  798 ...,  178   24  177]] \n",
      "\n",
      "User 3 actual : [ 382   24 1351 1007  993  810  616  610  605  277]\n",
      "User 3 predict: [[  42 1481  399 ...,   34 1003   24]\n",
      " [ 213  140   19 ...,   74   22   26]\n",
      " [ 605 1093  193 ...,   14  133    7]\n",
      " ..., \n",
      " [ 307   72 1122 ...,  998  329 1926]\n",
      " [  94   18   74 ...,  605   24  195]\n",
      " [ 177   24  178 ...,  798   60   64]]\n"
     ]
    }
   ],
   "source": [
    "#flip\n",
    "print('User 1 actual :',top_n(user_1,10))\n",
    "print('User 1 predict:',top_n(prediction_1,10), '\\n')\n",
    "\n",
    "print('User 2 actual :',top_n(user_2,10))\n",
    "print('User 2 predict:',top_n(prediction_2,10), '\\n')\n",
    "\n",
    "print('User 3 actual :',top_n(user_3,10))\n",
    "print('User 3 predict:',top_n(prediction_3,10))"
   ]
  },
  {
   "cell_type": "markdown",
   "metadata": {},
   "source": [
    "### Task 2. Evaluating performance of the recommender (15 pts)\n",
    "\n",
    "Suppose, we trained our model (obtain $U_k, \\Sigma_k, V^T_k$ from $A_{train}$). Let's evaluate it! For this purpose we have $A_{test}$ (recall the function [```split_data```](movielens10m.ipynb)). And our goal is to obtain vectors of recommendation $r$ for each user (row) in the test set ($A_{test}$). But there is no need to recompute the whole SVD for each user. We have the tool, which is called _folding-in_ for recommender systems.\n",
    "\n",
    "#### Folding-in technique                                                             \n",
    "\n",
    "<img src=\"decomp.png\" width='450'>\n",
    "\n",
    "\n",
    "A new user can be considered as an update to the original matrix (appending new row). Appending a row in the original matrix corresponds to appending a row into the users latent factors matrix $U_k$ in the SVD decomposition. \n",
    "Since we do not want to recompute the SVD, we project the new user on the space of found latent factors $V_k$, which spans the row space of matrix $A_k = U_k \\Sigma_k V^T_k$ (recall the problem from the theoretical tasks).\n",
    "The orthoprojection on this space is $P = V_kV_k^T$ (check that it satisfies definition of orthoprojection, i.e. $P^2=P$, $P^T = P$).\n",
    "\n",
    "Thus, the recommendation vector $r$ for a new user $x$ (considered as a column vector) can be written as\n",
    "\n",
    "$$\n",
    "r = V_kV_k^T x.\n",
    "$$\n",
    "\n",
    "\n",
    "#### Computing the total score\n",
    "You have to iterate over all users in the test set and make the following steps:\n",
    "* obtain vector $x$, which is the same as user row, but the last $N = 3$ rated films should be filled with zeroes. Example:\n",
    "\n",
    "$$\n",
    "user = (0, 0, 1, 3, 5, 2, 0, 2, 2, 1, 0, 5) \\;\\; \\to \\;\\;  x = (0, 0, 1, 3, 5, 2, 0, 2, 2, 0, 0, 0).\n",
    "$$\n",
    "\n",
    "* compute the folding-in prediction $r$:\n",
    "\n",
    "$$\n",
    "r = V_k V_k^T x.\n",
    "$$\n",
    "\n",
    "* Obtain top-3 from $user$ (truth) and top-3 from $r$ (prediction). The number of films appearing _simultaneously_ in both top-3's  should be added to the `total_score`. Write the corresponding function `total_score_folding`, which takes the sparse test matrix $A_{test}$,  $V_k$ from truncated SVD of $A_{train}$ and compute the total score. \n",
    "\n",
    "**Example: **\n",
    "\n",
    "|    $user$    |     $recommendation$    |\n",
    "|:------------:|:----------:|\n",
    "|    (**1**,**2**,3)   |  (10,**2**,**1**)  |\n",
    "| (34, 27, **69**) | (**69**, 5, 9) |\n",
    "|    (7,6,4)   |   (8,9,2)  |\n",
    "\n",
    "```total_score``` = 2 + 1 + 0 = 3."
   ]
  },
  {
   "cell_type": "code",
   "execution_count": 69,
   "metadata": {
    "collapsed": true
   },
   "outputs": [],
   "source": [
    "# INPUT: V - np.array(N_films, k), test_data - scipy.sparse.csr_matrix (N_train x N_films)\n",
    "# OTPUT: total_score - integer\n",
    "def total_score_folding(V, test_data): # 8 pts\n",
    "    # enter you code here\n",
    "    total_score = 0\n",
    "    test_data[:,-3:]=scipy.sparse.csr_matrix(np.zeros((test_data.shape[0],3)))\n",
    "    for user in test_data:\n",
    "        rec = V@user.T\n",
    "        rec = scipy.sparse.csr_matrix(V.T@rec)\n",
    "        total_score+=np.intersect1d(top_n(user,3), top_n(rec,3)).shape[0]\n",
    "    return total_score"
   ]
  },
  {
   "cell_type": "code",
   "execution_count": 70,
   "metadata": {},
   "outputs": [
    {
     "name": "stdout",
     "output_type": "stream",
     "text": [
      "Total score: 4596\n"
     ]
    }
   ],
   "source": [
    "t_score = total_score_folding(V=data_train_vh,test_data=data_test)\n",
    "print('Total score:', t_score)"
   ]
  },
  {
   "cell_type": "code",
   "execution_count": 71,
   "metadata": {},
   "outputs": [
    {
     "data": {
      "text/plain": [
       "array([[  6.70137231e-03,   3.26203879e-02,   4.19550319e-02, ...,\n",
       "          1.25646355e-05,   1.29603590e-05,  -1.57938956e-20],\n",
       "       [  1.48838056e-02,   9.53208412e-02,   7.12418664e-02, ...,\n",
       "         -2.81169427e-05,  -1.33436335e-05,  -5.01850572e-18],\n",
       "       [  2.62027643e-03,  -1.19929910e-02,  -4.22761401e-02, ...,\n",
       "          2.89690922e-05,  -1.29500411e-05,  -3.15189953e-18],\n",
       "       ..., \n",
       "       [  4.50436992e-03,   4.55524331e-02,   1.91466872e-02, ...,\n",
       "         -1.04307765e-04,   1.47424851e-04,   2.92922293e-17],\n",
       "       [  1.17963598e-02,  -1.23311125e-02,  -7.61914235e-04, ...,\n",
       "         -9.20762261e-05,  -5.03158933e-05,  -1.90151904e-17],\n",
       "       [  8.35188081e-03,   2.68575502e-03,  -1.23820081e-02, ...,\n",
       "          8.57729361e-05,  -6.57212126e-05,   1.29121456e-17]])"
      ]
     },
     "execution_count": 71,
     "metadata": {},
     "output_type": "execute_result"
    }
   ],
   "source": [
    "data_train_vh"
   ]
  },
  {
   "cell_type": "markdown",
   "metadata": {},
   "source": [
    "### Task 3 (bonus) Fine-tuning your model\n",
    "\n",
    "* Try to find the rank that produces the best evaluation score.\n",
    "    * Plot the dependency of evaluation score on the rank of SVD for all your trials in one graph.\n",
    "* Report the best result and the corresponding SVD rank.\n",
    "* Compare your model with the non-personalized recommender which simply recommends top-3 movies with highest average ratings. \n",
    "\n",
    "**Note**, that you don't have to recompute SVD to evaluate your model. You might compute once relatively large ($k =500$) truncated SVD and then just use submatrices of it.\n",
    "\n",
    "**Optionally:**\n",
    "You may want to test your parameters with different data splittings in order to minimize the risk of local effects.\n",
    "You're also free to add modifications to your code for producing better results. Report what modificatons you've done and what effect it had if any."
   ]
  },
  {
   "cell_type": "markdown",
   "metadata": {},
   "source": [
    "# Problem 4 (eigenvalues)\n",
    "\n",
    "## 55 pts\n",
    "\n",
    "### 1. Theoretical tasks (10 pts)\n",
    "\n",
    "* Prove that normal matrix is Hermitian iff its eigenvalues are real. Prove that normal matrix is unitary iff its eigenvalues satisfy $|\\lambda| = 1$. \n",
    "\n",
    "* The following problem illustrates instability of the Jordan form. Find theoretically the eigenvalues of the perturbed Jordan block:\n",
    "\n",
    "$$\n",
    "    J(\\varepsilon) = \n",
    "    \\begin{bmatrix} \n",
    "     \\lambda & 1 & & & 0 \\\\ \n",
    "     & \\lambda & 1 & & \\\\ \n",
    "     &  & \\ddots & \\ddots & \\\\ \n",
    "     & & & \\lambda & 1 \\\\ \n",
    "     \\varepsilon & & & & \\lambda  \\\\ \n",
    "    \\end{bmatrix}_{n\\times n}\n",
    "$$\n",
    "\n",
    "Comment how eigenvalues of $J(0)$ are perturbed for large $n$."
   ]
  },
  {
   "cell_type": "markdown",
   "metadata": {},
   "source": [
    "##### Problem 4.1 (a)"
   ]
  },
  {
   "cell_type": "markdown",
   "metadata": {},
   "source": [
    "- All eigenvalues are real?<br>\n",
    "<br>\n",
    "$Hv=\\lambda v$<br> \n",
    "Let's take conjugate transpose: $(Hv)^* = \\lambda^*v^* = v^*H^* = \\lambda^*v^*$ and multiply it by $v$:<br>\n",
    "$v^*H^*v=\\lambda^*v^*v$, hence, because of non eigenvector is zero:<br>\n",
    "$v^*\\lambda v = \\lambda^*v^*v\\Rightarrow \\lambda^*=\\lambda$, thus all eigenvalues are real.<br>\n",
    "<br>\n",
    "- Normal matrix is unitary iff its eigenvalues satisfy $|\\lambda| = 1?$<br>\n",
    "<br>\n",
    "$(Uv)^*(Uv)=(\\lambda v)^*(\\lambda v)=|\\lambda|v^*v$<br>\n",
    "Simultaneously, $(Uv)^*(Uv)=(U^*Uv)^*v=v^*v,$ so $|\\lambda|=1$<br>\n",
    "Consider $V=\\{v_1,...,V_n\\}$ - an orthonormal basis from the eigenvectores of $A$. Thus, we can express any vector $x$ as \n",
    "$\\sum_{i=1}^n c_iv_i$, hence $Ux=c_1\\lambda_1v_1+...+c_n\\lambda_nv_n$<br>\n",
    "$x^*x=|c_1|^2+...+|c_n|^2 \\Rightarrow (Ux)^*(Ux)=x*x,$ hence $U$ is unitary."
   ]
  },
  {
   "cell_type": "markdown",
   "metadata": {},
   "source": [
    "##### Problem 4.1 (b)"
   ]
  },
  {
   "cell_type": "markdown",
   "metadata": {},
   "source": [
    "Consider the $det J(\\epsilon)$ trough expansion: $detJ(\\epsilon)=(-1)^{n-1}\\epsilon+\\lambda^n$<br>\n",
    "<br>\n",
    "We can expres eigenvalues of $J(\\epsilon):(\\lambda-\\Lambda)^n=(-1)^n\\epsilon$, hence: <br>\n",
    "<br>\n",
    "$\\Lambda=\\lambda+\\epsilon^{-n}$<br>\n",
    "<br>\n",
    "The number of different solutions (complex solutions) for $y=\\epsilon^{-n}$ is $n$<br>\n",
    "<br>\n",
    "The eigenvalues of pertubated matrices are on the complex plane on the circle with radius $=|\\epsilon|^{-n}$ and center in $\\lambda$, so for large n (let's consider $n\\to\\infty$) the circle shrinks and all eigenvalues strive to $\\lambda$"
   ]
  },
  {
   "cell_type": "markdown",
   "metadata": {},
   "source": [
    "### 2. PageRank (30 pts)\n",
    "\n",
    "\n",
    "#### Damping factor importance\n",
    "\n",
    "* Write the function ```pagerank_matrix(G)``` that takes an adjacency matrix $G$ as an input and outputs the corresponding PageRank matrix $A$.\n",
    "\n",
    "* Find PageRank matrix $A$ that corresponds to the following graph: <img src=\"graph.png\" width='250'>\n",
    "What is its largest eigenvalue? What multiplicity does it have?\n",
    "\n",
    "\n",
    "* Implement the power method for a given matrix $A$, an initial guess $x_0$ and a number of iterations ```num_iter```. It should be organized as a function ```power_method(A, x0, num_iter)``` that outputs approximation to eigenvector $x$, eigenvalue $\\lambda$ and history of residuals $\\{\\|Ax_k - \\lambda_k x_k\\|_2\\}$. Make sure that the method conveges to the correct solution on a matrix $\\begin{bmatrix} 2 & -1 \\\\ -1 & 2 \\end{bmatrix}$ which is known to have the largest eigenvalue equal to $3$.\n",
    "\n",
    "\n",
    "* Run the power method for the graph presented above and plot residuals $\\|Ax_k - \\lambda_k x_k\\|_2$ as a function of $k$ for ```num_iter=100``` and random initial guess ```x0```.  Explain the absence of convergence. \n",
    "\n",
    "\n",
    "* Consider the same graph, but with the directed edge that goes from the node 3 to the node 4 being removed. Plot residuals as in the previous task and discuss the convergence. Now, run the power method with ```num_iter=100``` for 10 different initial guesses and print/plot the resulting approximated eigenvectors. Why do they depend on the initial guess?\n",
    "\n",
    "\n",
    "In order to avoid this problem Larry Page and Sergey Brin [proposed](http://ilpubs.stanford.edu:8090/422/1/1999-66.pdf) to use the following regularization technique:\n",
    "\n",
    "$$\n",
    "A_d = dA + \\frac{1-d}{N} \\begin{pmatrix} 1 & \\dots & 1 \\\\ \\vdots & & \\vdots \\\\ 1 & \\dots & 1 \\end{pmatrix},\n",
    "$$\n",
    "\n",
    "where $d$ is a small parameter in $[0,1]$ (typically $d=0.85$), which is called **damping factor**, $A$ is of size $N\\times N$. Now $A_d$ is the matrix with multiplicity of the largest eigenvalue equal to 1. \n",
    "Recall that computing the eigenvector of the PageRank matrix, which corresponds to the largest eigenvalue, has the following interpretation. Consider a person who stays in a random node of a graph (i.e. opens a random web page); at each step s/he follows one of the outcoming edges uniformly at random (i.e. opens one of the links). So the person randomly walks through the graph and the eigenvector we are looking for is exactly his/her stationary distribution — for each node it tells you the probability of visiting this particular node. Therefore, if the person has started from a part of the graph which is not connected with the other part, he will never get there.  In the regularized model, the person at each step follows one of the outcoming links with probability $d$ OR visits a random node from the whole graph with probability $(1-d)$.\n",
    "\n",
    "* Now, run the power method with $A_d$ and plot residuals $\\|A_d x_k - \\lambda_k x_k\\|_2$ as a function of $k$ for $d=0.99$, ```num_iter=100``` and a random initial guess ```x0```.\n",
    "\n",
    "\n",
    "Usually, graphs that arise in various areas are sparse (social, web, road networks, etc.) and, thus, computation of a matrix-vector product for corresponding PageRank matrix $A$ is much cheaper than $\\mathcal{O}(N^2)$. However, if $A_d$ is calculated directly, it becomes dense and, therefore, $\\mathcal{O}(N^2)$ cost grows prohibitively large for  big $N$.\n",
    "\n",
    "\n",
    "* Implement fast matrix-vector product for $A_d$ as a function ```pagerank_matvec(A, d, x)```, which takes a PageRank matrix $A$ (in sparse format, e.g., ```csr_matrix```), damping factor $d$ and a vector $x$ as an input and returns $A_dx$ as an output. Generate a random adjacency matrix of size $10000 \\times 10000$ with only 100 non-zero elements and compare ```pagerank_matvec``` performance with direct evaluation of $A_dx$."
   ]
  },
  {
   "cell_type": "markdown",
   "metadata": {},
   "source": [
    "$G = \\begin{pmatrix}\n",
    "0 & 0 & 1 & 0 & 0\\\\\n",
    "1 & 0 & 1 & 0 & 0\\\\\n",
    "0 & 1 & 0 & 0 & 0\\\\\n",
    "0 & 0 & 0 & 0 & 1\\\\\n",
    "0 & 0 & 0 & 1 & 0\\\\\n",
    "\\end{pmatrix}$ is just an adjacency matrix"
   ]
  },
  {
   "cell_type": "code",
   "execution_count": 72,
   "metadata": {
    "collapsed": true
   },
   "outputs": [],
   "source": [
    "G = np.array([[0,0,1,0,0],[1,0,1,0,0],[0,1,0,0,0],[0,0,0,0,1],[0,0,0,1,0]],dtype=np.float32)\n",
    "G = np.ndarray(shape=G.shape, buffer = G, dtype=np.float32)"
   ]
  },
  {
   "cell_type": "code",
   "execution_count": 73,
   "metadata": {
    "collapsed": true
   },
   "outputs": [],
   "source": [
    "# INPUT:  G - np.ndarray\n",
    "# OUTPUT: A - np.ndarray (of size G.shape)\n",
    "def pagerank_matrix(G): # 5 pts\n",
    "    # enter your code here\n",
    "    A = G.copy()\n",
    "    for each_column in range(A.shape[1]):\n",
    "        if bool(np.sum(A[:,each_column])):\n",
    "            A[:,each_column] = A[:,each_column]/np.sum(A[:,each_column])\n",
    "        else:\n",
    "            A[:,each_column] = 0.\n",
    "    return A"
   ]
  },
  {
   "cell_type": "code",
   "execution_count": 74,
   "metadata": {},
   "outputs": [
    {
     "name": "stdout",
     "output_type": "stream",
     "text": [
      "[[ 0.   0.   0.5  0.   0. ]\n",
      " [ 1.   0.   0.5  0.   0. ]\n",
      " [ 0.   1.   0.   0.   0. ]\n",
      " [ 0.   0.   0.   0.   1. ]\n",
      " [ 0.   0.   0.   1.   0. ]]\n"
     ]
    }
   ],
   "source": [
    "A=pagerank_matrix(G)\n",
    "print(A)"
   ]
  },
  {
   "cell_type": "markdown",
   "metadata": {},
   "source": [
    "$A$ has the largest eigenvalue of 1 with the multiplicity of 1"
   ]
  },
  {
   "cell_type": "code",
   "execution_count": 75,
   "metadata": {
    "collapsed": true
   },
   "outputs": [],
   "source": [
    "x0 = np.ones((1,A.shape[0])) / A.shape[0]\n",
    "x0 = np.ndarray(shape=x0.shape, buffer=x0, dtype=np.float32)"
   ]
  },
  {
   "cell_type": "code",
   "execution_count": 76,
   "metadata": {
    "collapsed": true
   },
   "outputs": [],
   "source": [
    "x0 = np.random.rand(1,A.shape[0])"
   ]
  },
  {
   "cell_type": "code",
   "execution_count": 77,
   "metadata": {
    "collapsed": true
   },
   "outputs": [],
   "source": [
    "np.warnings.filterwarnings('ignore')"
   ]
  },
  {
   "cell_type": "code",
   "execution_count": 124,
   "metadata": {
    "collapsed": true
   },
   "outputs": [],
   "source": [
    "# INPUT:  A - np.ndarray (2D), x0 - np.ndarray (1D), num_iter - integer (positive) \n",
    "# OUTPUT: x - np.ndarray (of size x0), l - float, res - np.ndarray (of size num_iter + 1 [include initial guess])\n",
    "def power_method(A, x0, num_iter):\n",
    "    # enter your code here\n",
    "    l= list()\n",
    "    l.append(np.max(A@x0.T))\n",
    "    \n",
    "    res = np.zeros(num_iter+1, dtype = np.float32)\n",
    "    res = np.ndarray(shape=res.shape, buffer=res, dtype=np.float32)\n",
    "    res[0] = np.linalg.norm(A@x0.T-l[-1]*x0,2)\n",
    "    for i in range(num_iter):\n",
    "        try:\n",
    "            x1 = np.dot(A, x0.T)\n",
    "        except:\n",
    "            x1 = np.dot(A, x0)\n",
    "        l.append(np.max(x1))\n",
    "        try:\n",
    "            #res.append(np.linalg.norm(A@x1 - l[-1]*x1,2))\n",
    "            res[i+1] = np.linalg.norm(A@x1 - l[-1]*x1,2)\n",
    "        except:\n",
    "            #res.append(np.linalg.norm(A@x1.T - l[-1]*x1,2))\n",
    "            res[i+1] = np.linalg.norm(A@x1.T - l[-1]*x1,2)\n",
    "        x0 = x1 / l[-1]\n",
    "        if np.linalg.matrix_rank(A) < A.shape[0]:\n",
    "            if bool(np.sum(np.isnan(x0))):\n",
    "                x0 = np.zeros(x0.shape, dtype=np.float32)\n",
    "                x0 = np.ndarray(shape=x0.shape, buffer = x0,dtype=np.float32)\n",
    "                l[-1] = 0.\n",
    "    return x0,l[-1], res #eigenvecor, eigenvalue, residuals"
   ]
  },
  {
   "cell_type": "code",
   "execution_count": 125,
   "metadata": {
    "collapsed": true
   },
   "outputs": [],
   "source": [
    "A = np.array([[2,-1],[-1,2]])\n",
    "x0 = np.random.rand(1,A.shape[0])\n",
    "x0 = np.ndarray(shape=x0.shape, buffer=x0, dtype=np.float32)"
   ]
  },
  {
   "cell_type": "code",
   "execution_count": 127,
   "metadata": {},
   "outputs": [
    {
     "name": "stdout",
     "output_type": "stream",
     "text": [
      "3.0\n"
     ]
    }
   ],
   "source": [
    "check=power_method(A, x0, num_iter=100)\n",
    "print(check[1])"
   ]
  },
  {
   "cell_type": "code",
   "execution_count": 128,
   "metadata": {
    "collapsed": true
   },
   "outputs": [],
   "source": [
    "np.random.seed(111)\n",
    "A=pagerank_matrix(G)\n",
    "x0 = np.random.rand(1,A.shape[0])\n",
    "x0 = np.ndarray(shape=x0.shape, buffer=x0, dtype=np.float32)"
   ]
  },
  {
   "cell_type": "code",
   "execution_count": 129,
   "metadata": {
    "collapsed": true
   },
   "outputs": [],
   "source": [
    "x_approximated, l_approximated, res_approximated = power_method(A, x0, num_iter=100)\n",
    "x_approximated, l_approximated, res_approximated = power_method(A, x0, num_iter=100)"
   ]
  },
  {
   "cell_type": "code",
   "execution_count": 130,
   "metadata": {},
   "outputs": [
    {
     "name": "stdout",
     "output_type": "stream",
     "text": [
      "1.41421\n"
     ]
    },
    {
     "data": {
      "text/plain": [
       "<matplotlib.text.Text at 0x7f53c2782e10>"
      ]
     },
     "execution_count": 130,
     "metadata": {},
     "output_type": "execute_result"
    },
    {
     "data": {
      "image/png": "[encoded data removed]",
      "text/plain": [
       "<matplotlib.figure.Figure at 0x7f53c281c668>"
      ]
     },
     "metadata": {},
     "output_type": "display_data"
    }
   ],
   "source": [
    "print(res_approximated[-1])\n",
    "plt.plot(res_approximated)\n",
    "plt.title('Residuals')\n",
    "plt.xlabel('n-th residual')\n",
    "plt.ylabel('Value')"
   ]
  },
  {
   "cell_type": "markdown",
   "metadata": {},
   "source": [
    "We see that it does not converge because it stuck in the isolated node 3 and 4 and moves around them (random walk process, a bit similar to markov chains)"
   ]
  },
  {
   "cell_type": "code",
   "execution_count": 132,
   "metadata": {},
   "outputs": [
    {
     "data": {
      "text/plain": [
       "array([[ 0.,  0.,  1.,  0.,  0.],\n",
       "       [ 1.,  0.,  1.,  0.,  0.],\n",
       "       [ 0.,  1.,  0.,  0.,  0.],\n",
       "       [ 0.,  0.,  0.,  0.,  1.],\n",
       "       [ 0.,  0.,  0.,  0.,  0.]], dtype=float32)"
      ]
     },
     "execution_count": 132,
     "metadata": {},
     "output_type": "execute_result"
    }
   ],
   "source": [
    "G_modified = np.array([[0,0,1,0,0],[1,0,1,0,0],[0,1,0,0,0],[0,0,0,0,1],[0,0,0,0,0]],dtype=np.float32)\n",
    "G_modified = np.ndarray(shape=G_modified.shape, buffer = G_modified, dtype=np.float32)\n",
    "G_modified"
   ]
  },
  {
   "cell_type": "code",
   "execution_count": 133,
   "metadata": {
    "collapsed": true
   },
   "outputs": [],
   "source": [
    "A=pagerank_matrix(G_modified)\n",
    "x0 = np.random.rand(1,A.shape[0])\n",
    "x0 = np.ndarray(shape=x0.shape, buffer=x0, dtype=np.float32)"
   ]
  },
  {
   "cell_type": "code",
   "execution_count": 134,
   "metadata": {
    "collapsed": true
   },
   "outputs": [],
   "source": [
    "x_approximated_mod, l_approximated_mod, res_approximated_mod = power_method(A, x0, num_iter=100)"
   ]
  },
  {
   "cell_type": "code",
   "execution_count": 135,
   "metadata": {},
   "outputs": [
    {
     "name": "stdout",
     "output_type": "stream",
     "text": [
      "0.0\n"
     ]
    },
    {
     "data": {
      "image/png": "[encoded data removed]",
      "text/plain": [
       "<matplotlib.figure.Figure at 0x7f53c27c1080>"
      ]
     },
     "metadata": {},
     "output_type": "display_data"
    }
   ],
   "source": [
    "plt.plot(res_approximated_mod)\n",
    "plt.title('Residuals')\n",
    "plt.xlabel('n-th residual')\n",
    "plt.ylabel('Value')\n",
    "print(res_approximated_mod[-1])"
   ]
  },
  {
   "cell_type": "markdown",
   "metadata": {},
   "source": [
    "Now, run the power method with num_iter=100 for 10 different initial guesses and print/plot the resulting approximated eigenvectors. Why do they depend on the initial guess?"
   ]
  },
  {
   "cell_type": "code",
   "execution_count": 136,
   "metadata": {},
   "outputs": [
    {
     "name": "stdout",
     "output_type": "stream",
     "text": [
      "[[ 0.5]\n",
      " [ 1. ]\n",
      " [ 1. ]\n",
      " [ 0. ]\n",
      " [ 0. ]] \n",
      "\n",
      "[[ 0.5]\n",
      " [ 1. ]\n",
      " [ 1. ]\n",
      " [ 0. ]\n",
      " [ 0. ]] \n",
      "\n",
      "[[ 0.]\n",
      " [ 0.]\n",
      " [ 0.]\n",
      " [ 0.]\n",
      " [ 0.]] \n",
      "\n",
      "[[ 0.5]\n",
      " [ 1. ]\n",
      " [ 1. ]\n",
      " [ 0. ]\n",
      " [ 0. ]] \n",
      "\n",
      "[[ 0.]\n",
      " [ 0.]\n",
      " [ 0.]\n",
      " [ 0.]\n",
      " [ 0.]] \n",
      "\n",
      "[[ 0.5]\n",
      " [ 1. ]\n",
      " [ 1. ]\n",
      " [ 0. ]\n",
      " [ 0. ]] \n",
      "\n",
      "[[ 0.]\n",
      " [ 0.]\n",
      " [ 0.]\n",
      " [ 0.]\n",
      " [ 0.]] \n",
      "\n",
      "[[ 0.]\n",
      " [ 0.]\n",
      " [ 0.]\n",
      " [ 0.]\n",
      " [ 0.]] \n",
      "\n",
      "[[ 0.5]\n",
      " [ 1. ]\n",
      " [ 1. ]\n",
      " [ 0. ]\n",
      " [ 0. ]] \n",
      "\n",
      "[[ 0.]\n",
      " [ 0.]\n",
      " [ 0.]\n",
      " [ 0.]\n",
      " [ 0.]] \n",
      "\n"
     ]
    }
   ],
   "source": [
    "np.random.seed(None)\n",
    "for _ in range(10):\n",
    "    x0 = np.random.rand(1,A.shape[0])\n",
    "    x0 = np.ndarray(shape=x0.shape, buffer=x0, dtype=np.float32)\n",
    "    x_approximated_ran, l_approximated_ran, res_approximated_ran = power_method(A, x0, num_iter=100)\n",
    "    print(x_approximated_ran,'\\n')"
   ]
  },
  {
   "cell_type": "markdown",
   "metadata": {},
   "source": [
    "The difference between eigenvectors can be explained if we imagine this process as a random walk. Here, our random walker just stucks in one node and can't go further, so if our initial guess is randomly bad, we arrive at this state soon and have all zeros in eigenvectors"
   ]
  },
  {
   "cell_type": "markdown",
   "metadata": {},
   "source": [
    "* Implement fast matrix-vector product for $A_d$ as a function ```pagerank_matvec(A, d, x)```, which takes a PageRank matrix $A$ (in sparse format, e.g., ```csr_matrix```), damping factor $d$ and a vector $x$ as an input and returns $A_dx$ as an output. Generate a random adjacency matrix of size $10000 \\times 10000$ with only 100 non-zero elements and compare ```pagerank_matvec``` performance with direct evaluation of $A_dx$."
   ]
  },
  {
   "cell_type": "raw",
   "metadata": {
    "collapsed": true
   },
   "source": [
    "# INPUT:  A - np.ndarray (2D), d - float (from 0.0 to 1.0), x - np.ndarray (1D, size of A.shape[0/1])\n",
    "# OUTPUT: y - np.ndarray (1D, size of x)\n",
    "def pagerank_matvec(A, d, x): # 2 pts\n",
    "    N = x.shape\n",
    "    A_ = scipy.sparse.csr_matrix(A)\n",
    "    B_ = scipy.sparse.csr_matrix(np.ones_like(A))\n",
    "    y = A_.dot(x)*d + (1-d)/ N * B_.dot(x)\n",
    "    #y = A.dot(x) * d + (1 - d) / N * np.dot(np.ones_like(A_), x)\n",
    "    return y"
   ]
  },
  {
   "cell_type": "raw",
   "metadata": {},
   "source": [
    "np.random.seed(None)\n",
    "\n",
    "def get_rand_adj(N):\n",
    "    matrix = np.zeros((N,N))\n",
    "    for _ in range(100):\n",
    "        i = np.random.randint(0,N)\n",
    "        j = np.random.randint(0,N)\n",
    "        if not bool(matrix[i,j]):\n",
    "            matrix[i,j] = 1.\n",
    "    return matrix"
   ]
  },
  {
   "cell_type": "raw",
   "metadata": {},
   "source": [
    "Matv = get_rand_adj(10000)\n",
    "vec = np.random.rand(Matv.shape[0],1)\n",
    "vec = np.ndarray(shape=vec.shape, buffer=vec, dtype=np.float32)"
   ]
  },
  {
   "cell_type": "markdown",
   "metadata": {},
   "source": [
    "\n",
    "\n",
    "#### DBLP: computer science bibliography\n",
    "\n",
    "Download the dataset from [here](https://goo.gl/oZVxEa), unzip it and put `dblp_authors.npz`  and `dblp_graph.npz` in the same folder with this notebook. Each value (author name) from `dblp_authors.npz` corresponds to the row/column of the matrix from `dblp_graph.npz`. Value at row `i` and column `j` of the matrix from `dblp_graph.npz` corresponds to the number of times author `i` cited papers of the author `j`. Let us now find the most significant scientists according to PageRank model over DBLP data.\n",
    "\n",
    "* Load the weighted adjacency matrix and the authors list into Python using ```load_dblp(...)``` function. Print its density (fraction of nonzero elements). Find top-10 most cited authors from the weighted adjacency matrix. Now, make all the weights of the adjacency matrix equal to 1 for simplicity (consider only existence of connection between authors, not its weight). Obtain the PageRank matrix $A$ from the adjacency matrix and verify that it is stochastic.\n",
    " \n",
    " \n",
    "* In order to provide ```pagerank_matvec``` to your ```power_method``` (without rewriting it) for fast calculation of $A_dx$, you can create a ```LinearOperator```: \n",
    "```python\n",
    "L = scipy.sparse.linalg.LinearOperator(A.shape, matvec=lambda x, A=A, d=d: pagerank_matvec(A, d, x))\n",
    "```\n",
    "Calling ```L@x``` or ```L.dot(x)``` will result in calculation of ```pagerank_matvec(A, d, x)``` and, thus, you can plug $L$ instead of the matrix $A$ in the ```power_method``` directly. **Note:** though in the previous subtask graph was very small (so you could disparage fast matvec implementation), here it is very large (but sparse), so that direct evaluation of $A_dx$ will require $\\sim 10^{12}$ matrix elements to store - good luck with that (^_<)≡☆\n",
    "\n",
    "\n",
    "* Run the power method starting from the vector of all ones and plot residuals $\\|A_dx_k - \\lambda_k x_k\\|_2$  as a function of $k$ for $d=0.85$.\n",
    "\n",
    "\n",
    "* Print names of the top-10 authors according to PageRank over DBLP when $d=0.85$.\n",
    "\n",
    "\n",
    "* (Bonus) Does it look suspicious? Why? Discuss what could cause such results."
   ]
  },
  {
   "cell_type": "raw",
   "metadata": {
    "collapsed": true
   },
   "source": [
    "from scipy.sparse import load_npz\n",
    "import numpy as np\n",
    "def load_dblp(path_auth, path_graph):\n",
    "    G = load_npz(path_graph).astype(float)\n",
    "    with np.load(path_auth) as data: authors = data['authors']\n",
    "    return G, authors\n",
    "G, authors = load_dblp('dblp_authors.npz', 'dblp_graph.npz')"
   ]
  },
  {
   "cell_type": "markdown",
   "metadata": {},
   "source": [
    "### 3. QR algorithm (10 pts)\n",
    "\n",
    "* Implement QR-algorithm without shifting. Prototype of the function is given below"
   ]
  },
  {
   "cell_type": "code",
   "execution_count": 182,
   "metadata": {
    "collapsed": true
   },
   "outputs": [],
   "source": [
    "# INPUT: \n",
    "# A_init - square matrix, \n",
    "# num_iter - number of iterations for QR algorithm\n",
    "# OUTPUT: \n",
    "# Ak - transformed matrix A_init given by QR algorithm, \n",
    "# convergence - numpy array of shape (num_iter, ), \n",
    "# where we store the maximal number from the Chebyshev norm \n",
    "# of triangular part of the Ak for every iteration\n",
    "\n",
    "def qr_algorithm(A_init, num_iter): # 3 pts\n",
    "\n",
    "    conv_hist,A_ = np.zeros(num_iter),A_init.copy()\n",
    "    \n",
    "    for i in range(num_iter):\n",
    "        Q,R = scipy.linalg.decomp_qr.qr(A_)\n",
    "        A_=np.dot(Q.T,np.dot(A_,Q))\n",
    "        conv_hist[i] = np.max(np.abs(A_[np.tril_indices(A_.shape[0], -1)]))\n",
    "        \n",
    "    return A_, conv_hist"
   ]
  },
  {
   "cell_type": "markdown",
   "metadata": {},
   "source": [
    "#### Symmetric case\n",
    "\n",
    "- Create **symmetric** tridiagonal $11 \\times 11$ matrix with elements $-1, 2, -1$ on sub-, main- and upper diagonal respectively without using loops. \n",
    "- Run $300$ iterations of the QR algorithm for this matrix. \n",
    "- Plot the output matrix with function ```plt.spy(Ak, precision=1e-7)```.\n",
    "- Plot convergence of QR-algorithm.\n",
    "\n",
    "<img src=https://pbs.twimg.com/media/Bq6t17OIMAALkiA.jpg width=30%/>\n",
    "*Photo comment*: professor Gilbert Strang (MIT) \"These are 121 cupcakes with my favorite -1, 2, -1 matrix. It was the day before Thanksgiving and two days before my birthday. A happy surprise.\" "
   ]
  },
  {
   "cell_type": "markdown",
   "metadata": {},
   "source": [
    "#### Nonsymmetric case\n",
    "\n",
    "- Create **nonsymmetric** tridiagonal $11 \\times 11$ matrix with elements $5, 3, -2$ on sub-, main- and upper diagonal respectively without using loops. \n",
    "- Run $200$ iterations of the QR algorithm for this matrix. \n",
    "- Plot the result matrix with function ```plt.spy(Ak, precision=1e-7)```. Is this matrix lower triangular? How does this correspond to the claim about convergence of the QR algorithm?"
   ]
  },
  {
   "cell_type": "code",
   "execution_count": 190,
   "metadata": {
    "collapsed": true
   },
   "outputs": [],
   "source": [
    "def get_sym_tri(N,elements=[-1,2,-1]):\n",
    "    x = np.zeros((11, 11), dtype=np.int)\n",
    "    i = j = np.arange(1,N+1,1)\n",
    "    ii,jj = np.meshgrid(i,j)\n",
    "    X = ii-jj\n",
    "    Func=np.vectorize(lambda x: elements[1]*(x==0)+elements[0]*(x==1)+elements[2]*(x==-1))\n",
    "    return Func(X)"
   ]
  },
  {
   "cell_type": "code",
   "execution_count": 191,
   "metadata": {
    "collapsed": true
   },
   "outputs": [],
   "source": [
    "x=get_sym_tri(11)"
   ]
  },
  {
   "cell_type": "code",
   "execution_count": 192,
   "metadata": {
    "collapsed": true
   },
   "outputs": [],
   "source": [
    "a_t, conv_t=qr_algorithm(A_init=x, num_iter=300)"
   ]
  },
  {
   "cell_type": "code",
   "execution_count": 193,
   "metadata": {},
   "outputs": [
    {
     "data": {
      "text/plain": [
       "<matplotlib.image.AxesImage at 0x7f53c266a780>"
      ]
     },
     "execution_count": 193,
     "metadata": {},
     "output_type": "execute_result"
    },
    {
     "data": {
      "image/png": "[encoded data removed]",
      "text/plain": [
       "<matplotlib.figure.Figure at 0x7f53b956b3c8>"
      ]
     },
     "metadata": {},
     "output_type": "display_data"
    }
   ],
   "source": [
    "plt.spy(a_t, precision=1e-7)"
   ]
  },
  {
   "cell_type": "code",
   "execution_count": 198,
   "metadata": {
    "collapsed": true
   },
   "outputs": [],
   "source": [
    "y=get_sym_tri(11,[-2,3,5])"
   ]
  },
  {
   "cell_type": "code",
   "execution_count": 199,
   "metadata": {},
   "outputs": [
    {
     "data": {
      "text/plain": [
       "array([[ 3, -2,  0,  0,  0,  0,  0,  0,  0,  0,  0],\n",
       "       [ 5,  3, -2,  0,  0,  0,  0,  0,  0,  0,  0],\n",
       "       [ 0,  5,  3, -2,  0,  0,  0,  0,  0,  0,  0],\n",
       "       [ 0,  0,  5,  3, -2,  0,  0,  0,  0,  0,  0],\n",
       "       [ 0,  0,  0,  5,  3, -2,  0,  0,  0,  0,  0],\n",
       "       [ 0,  0,  0,  0,  5,  3, -2,  0,  0,  0,  0],\n",
       "       [ 0,  0,  0,  0,  0,  5,  3, -2,  0,  0,  0],\n",
       "       [ 0,  0,  0,  0,  0,  0,  5,  3, -2,  0,  0],\n",
       "       [ 0,  0,  0,  0,  0,  0,  0,  5,  3, -2,  0],\n",
       "       [ 0,  0,  0,  0,  0,  0,  0,  0,  5,  3, -2],\n",
       "       [ 0,  0,  0,  0,  0,  0,  0,  0,  0,  5,  3]])"
      ]
     },
     "execution_count": 199,
     "metadata": {},
     "output_type": "execute_result"
    }
   ],
   "source": [
    "y"
   ]
  },
  {
   "cell_type": "code",
   "execution_count": 200,
   "metadata": {
    "collapsed": true
   },
   "outputs": [],
   "source": [
    "a_t1, conv_t1=qr_algorithm(A_init=y, num_iter=200)"
   ]
  },
  {
   "cell_type": "code",
   "execution_count": 201,
   "metadata": {},
   "outputs": [
    {
     "data": {
      "text/plain": [
       "<matplotlib.image.AxesImage at 0x7f53c25f0ac8>"
      ]
     },
     "execution_count": 201,
     "metadata": {},
     "output_type": "execute_result"
    },
    {
     "data": {
      "image/png": "[encoded data removed]",
      "text/plain": [
       "<matplotlib.figure.Figure at 0x7f53c26b5550>"
      ]
     },
     "metadata": {},
     "output_type": "display_data"
    }
   ],
   "source": [
    "plt.spy(a_t1, precision=1e-7)"
   ]
  }
 ],
 "metadata": {
  "anaconda-cloud": {},
  "kernelspec": {
   "display_name": "Python 3",
   "language": "python",
   "name": "python3"
  },
  "language_info": {
   "codemirror_mode": {
    "name": "ipython",
    "version": 3
   },
   "file_extension": ".py",
   "mimetype": "text/x-python",
   "name": "python",
   "nbconvert_exporter": "python",
   "pygments_lexer": "ipython3",
   "version": "3.6.3"
  }
 },
 "nbformat": 4,
 "nbformat_minor": 2
}
