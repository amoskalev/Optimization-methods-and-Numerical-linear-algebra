{
 "cells": [
  {
   "cell_type": "markdown",
   "metadata": {},
   "source": [
    "# Assignment 2. Moskalev Artem."
   ]
  },
  {
   "cell_type": "markdown",
   "metadata": {},
   "source": [
    "## Problem 1"
   ]
  },
  {
   "cell_type": "markdown",
   "metadata": {},
   "source": [
    "$minimize(4x_1 + 5|x_2-1|)$, subject to $|2x_1|+|x_2-3|<=5$\n",
    "<br>\n",
    "<br>\n",
    "Let's substitute modules:\n",
    "<br>\n",
    "<br>\n",
    "$|x_2-1|=z_1$, $z_1>=x_2-1$, $z_1>=-x_2+1$\n",
    "<br>\n",
    "<br>\n",
    "$|2x_1|=z_2$, $z_2>=-2x_1$, $z_2>=2x_1$\n",
    "<br>\n",
    "<br>\n",
    "$|x_2-3|=z_3$, $z_3>=x_2-3$, $z_3>=-x_2+3$\n",
    "<br><br>\n",
    "Thus, we come to the following form:<br>\n",
    "<br>\n",
    "$minimize(4x_1+5z_1)$, s.t.<br>\n",
    "$z_1>=x_2-1$<br>\n",
    "$z_1>=-x_2+1$<br>\n",
    "$z_2>=2x_1$<br>\n",
    "$z_2>=-2x_1$<br>\n",
    "$z_3>=x_2-3$<br>\n",
    "$z_3>=-x_2+3$<br>\n",
    "$z_1+z_2<=5$<br>\n",
    "<br>\n",
    "Next, we can reformulate constraints to come to more suitable form: $minimize(c^Tx)$, s.t. $Ax>=b$:<br>\n",
    "\n",
    "$z_1-x_2>=-1$<br>\n",
    "$z_1+x_2>=1$<br>\n",
    "$z_2-2x_1>=0$<br>\n",
    "$z_2+2x_1>=0$<br>\n",
    "$z_3-x_2>=-3$<br>\n",
    "$z_3+x_2>=3$<br>\n",
    "$-z_1+-z_2>=-5$<br>\n",
    "<br>\n",
    "So, we have decision variables $x_1,x_2,z_1,z_2,z_3$, cost vector $c=(4,0,5,0,0)^T$, matrix A which holds left hand side of constraint inequalities and vector $b=(-1,1,0,0,-3,3,-5)^T$ for right hand side. Now, we can use cvxpy to perform an optimization:"
   ]
  },
  {
   "cell_type": "code",
   "execution_count": 4,
   "metadata": {},
   "outputs": [
    {
     "name": "stdout",
     "output_type": "stream",
     "text": [
      "status: optimal\n",
      "optimal value -5.99999999851067\n",
      "optimal x_1 = -1.5 optimal x_2 = 1\n"
     ]
    }
   ],
   "source": [
    "from cvxpy import *\n",
    "import numpy as np\n",
    "\n",
    "x=Variable(5) #here are our x1,x2,z1,z2,z3\n",
    "c = np.asarray([4., 0., 5., 0., 0.]); #cost vector\n",
    "\n",
    "A = np.asarray([[ 0., -1.,  1.,  0., 0.],\n",
    "                [ 0.,  1.,  1.,  0., 0.],\n",
    "                [-2.,  0.,  0.,  1., 0.],\n",
    "                [ 2.,  0.,  0.,  1., 0.],\n",
    "                [ 0., -1.,  0.,  0., 1.], \n",
    "                [ 0.,  1.,  0.,  0., 1.], \n",
    "                [ 0.,  0., 0., -1., -1.]]);\n",
    "\n",
    "b = np.asarray([-1., 1., 0., 0.,-3.,3.,-5.]);\n",
    "\n",
    "constraints = [A*x>=b]\n",
    "obj = Minimize(c*x)\n",
    "\n",
    "prob = Problem(obj, constraints)\n",
    "prob.solve()\n",
    "\n",
    "print(\"status:\", prob.status)\n",
    "print(\"optimal value\", prob.value)\n",
    "print(\"optimal x_1 =\", round(float(x.value[0]),2),'optimal x_2 =',int(x.value[1]))"
   ]
  },
  {
   "cell_type": "markdown",
   "metadata": {},
   "source": [
    "## Problem 2"
   ]
  },
  {
   "cell_type": "markdown",
   "metadata": {},
   "source": [
    "There are many ways to formulate this problem. One of them is to minimize an amount of power with constraint that all desired demands are satisfied. Also, we need to restrict that all our powers are greater or equal than zero."
   ]
  },
  {
   "cell_type": "markdown",
   "metadata": {},
   "source": [
    "$\\min\\sum_{i=1}^mp_i$, s.t. <br><br>\n",
    "$\\sum_{j=1}^ma_{i,j}p_j>=I_j^*$ for     $1<=i<=n$ <br> $p_j>=0$ for $1<=j<=m$"
   ]
  },
  {
   "cell_type": "code",
   "execution_count": 7,
   "metadata": {},
   "outputs": [
    {
     "name": "stdout",
     "output_type": "stream",
     "text": [
      "status: optimal\n",
      "optimal value 1.2834433268332919\n",
      "optimal var [[ -2.63142284e-11]\n",
      " [  1.84360592e-01]\n",
      " [  5.98942883e-01]\n",
      " [  1.06225317e-11]\n",
      " [  5.00139852e-01]]\n"
     ]
    }
   ],
   "source": [
    "np.random.seed(7766)\n",
    "\n",
    "n = 7 #segments\n",
    "m = 5 #lamps\n",
    "\n",
    "a_nod = np.random.random((n, m))\n",
    "#rounder = np.vectorize(lambda x: int(x))\n",
    "#a_nod=rounder(a_nod) \n",
    "\n",
    "I_desired = np.random.random((n, 1))\n",
    "#I_desired = rounder(I_desired)\n",
    "\n",
    "p_i = Variable(m)\n",
    "constraints = []\n",
    "\n",
    "for each_segment in range(n): #here we add constraints that the demand of each segment is satisfied\n",
    "    constraints.append(sum_entries(a_nod[each_segment]@p_i)>=I_desired[each_segment])\n",
    "    \n",
    "constraints.append(p_i>=0)\n",
    "obj = Minimize(sum_entries(p_i)) #so, we want the total power to be as small as possibe\n",
    "prob = Problem(obj, constraints)\n",
    "prob.solve()\n",
    "\n",
    "print(\"status:\", prob.status)\n",
    "print(\"optimal value\", prob.value)\n",
    "print(\"optimal var\", p_i.value)"
   ]
  },
  {
   "cell_type": "code",
   "execution_count": null,
   "metadata": {
    "collapsed": true
   },
   "outputs": [],
   "source": []
  },
  {
   "cell_type": "markdown",
   "metadata": {},
   "source": [
    "P.S. Variable values with powers like $e^{-11}$ should be treated like zeros here"
   ]
  },
  {
   "cell_type": "markdown",
   "metadata": {},
   "source": [
    "Second way to formulate this problem is to minimize the difference between desired demand and actual demand with constraint that all segments are sufficienlty lighted $(I_i>=I_i^*)$. However, in this case, we will need to introduce at least $n$ new variables and $2n$ new constraints to substitute the module, so it won't be the most efficient way."
   ]
  },
  {
   "cell_type": "markdown",
   "metadata": {},
   "source": [
    "- $\\min\\sum_{i=1}^n|I^*_i-I_i|$, s.t. $p_j>=0$ and $I_i>=I_i^*$"
   ]
  },
  {
   "cell_type": "markdown",
   "metadata": {},
   "source": [
    "The third way is to work with $\\|.\\|_ {\\infty}$ and to minimize the maximum difference between desired and actual demand: <br>\n",
    "<br>\n",
    "- $\\min(\\max|I_i^*-I_i|)$ s.t. $I_i>= I_i^*$ for $1<=i<=n$ and $p_j>=0$ for $1<=j<=m$\n",
    "<br>"
   ]
  },
  {
   "cell_type": "markdown",
   "metadata": {},
   "source": [
    "<br>\n",
    "However, here we also face a need to introduce new variables and constraints. So, we remain our first formulation $\\min\\sum_{i=1}^mp_i$ as the main one."
   ]
  },
  {
   "cell_type": "markdown",
   "metadata": {},
   "source": [
    "## Problem 3"
   ]
  },
  {
   "cell_type": "markdown",
   "metadata": {},
   "source": [
    "#### Part 1"
   ]
  },
  {
   "cell_type": "markdown",
   "metadata": {},
   "source": [
    "Let $P$ be the profit, hence in our case we have $P=n(9-1.2)+m(8-0.9)=7.8n+7.1m$, where $n$ is number of products of the first type and $m$ is number of products of the second type and obviously: $m,n>=0$.<br>\n",
    "<br>\n",
    "We also should introduce additional constraints related to the time of production: time for assembling and for testing of both products can not be higher than than a particular limit: $\\frac14n+\\frac13m<=90$ - time for assembling, $\\frac18n+\\frac13m<=80$ time for testing. Thus, we have:<br>\n",
    "<br>\n",
    "$$\\max(7.8n+7.1m)$$\n",
    "<center>, s.t. <br>\n",
    "<br>\n",
    "$$\\frac14n+\\frac13m<=90$$ <br>\n",
    "$$\\frac18n+\\frac13m<=80$$ <br>\n",
    "$$m,n>=0$$"
   ]
  },
  {
   "cell_type": "markdown",
   "metadata": {},
   "source": [
    "In some cases our decision variables might be treated as integers (If company produces briks or cars). However, since we have no idea of what company's products are, let's assume that they company can produce fractional number of product (oil, flour etc.)"
   ]
  },
  {
   "cell_type": "code",
   "execution_count": 9,
   "metadata": {},
   "outputs": [
    {
     "name": "stdout",
     "output_type": "stream",
     "text": [
      "status: optimal\n",
      "optimal value 2807.9999882490756\n",
      "optimal n: 359.999995524\n",
      "optimal m: 3.26239653845e-06\n"
     ]
    }
   ],
   "source": [
    "n = Variable()\n",
    "m = Variable()\n",
    "\n",
    "\n",
    "constraints=[m>=0,n>=0,(n/4)+(m/3)<=90, (n/8)+(m/3)<=80]\n",
    "obj = Maximize(7.8*n+7.1*m) #so, we want the total power to be as small as possibe\n",
    "prob = Problem(obj, constraints)\n",
    "prob.solve()\n",
    "\n",
    "print(\"status:\", prob.status)\n",
    "print(\"optimal value\", prob.value)\n",
    "print(\"optimal n:\", n.value)\n",
    "print(\"optimal m:\", m.value)"
   ]
  },
  {
   "cell_type": "markdown",
   "metadata": {},
   "source": [
    "#### Part 2(a)"
   ]
  },
  {
   "cell_type": "markdown",
   "metadata": {},
   "source": [
    "Let's now introduce extra time $e$ for assembling and each hour of extra work will reduce company's profit for 7 dollars, hence we have:<br>\n",
    "<br>\n",
    "$$\\max(7.8n+7.1m-7e)$$\n",
    "<center>, s.t. <br>\n",
    "<br>\n",
    "$$\\frac14n+\\frac13m<=90+e$$ <br>\n",
    "$$\\frac18n+\\frac13m<=80$$ <br>\n",
    "$$m,n>=0$$\n",
    "$$e>=0$$\n",
    "$$e<=50$$"
   ]
  },
  {
   "cell_type": "code",
   "execution_count": 10,
   "metadata": {},
   "outputs": [
    {
     "name": "stdout",
     "output_type": "stream",
     "text": [
      "status: optimal\n",
      "optimal value 2807.9999995638636\n",
      "optimal n: 360.0\n",
      "optimal m: 0.0\n",
      "optimal e: 3.08613292347e-08\n"
     ]
    }
   ],
   "source": [
    "n = Variable()\n",
    "m = Variable()\n",
    "e = Variable()\n",
    "\n",
    "\n",
    "constraints=[m>=0,n>=0,(n/4)+(m/3)<=90, (n/8)+(m/3)<=80, e>=0, e<=50]\n",
    "obj = Maximize(7.8*n+7.1*m-7*e) #so, we want the total power to be as small as possibe\n",
    "prob = Problem(obj, constraints)\n",
    "prob.solve()\n",
    "\n",
    "print(\"status:\", prob.status)\n",
    "print(\"optimal value\", prob.value)\n",
    "print(\"optimal n:\", round(n.value))\n",
    "print(\"optimal m:\", round(m.value))\n",
    "print(\"optimal e:\", e.value)"
   ]
  },
  {
   "cell_type": "markdown",
   "metadata": {},
   "source": [
    "From here, we can deduce that introducing extra time does not change situation for much."
   ]
  },
  {
   "cell_type": "markdown",
   "metadata": {},
   "source": [
    "#### Part 2(b)"
   ]
  },
  {
   "cell_type": "markdown",
   "metadata": {},
   "source": [
    "Let's now think how our problem will look like if we introdce a discount over the bill of raw materials if it is more than 300$"
   ]
  },
  {
   "cell_type": "markdown",
   "metadata": {},
   "source": [
    "$P = \\begin{cases} 9n+8m-c, & \\mbox{if } n<300 \\\\ 9n+8m-0.9c, & \\mbox{if } n>=300 \\end{cases}$\n",
    "<br>\n",
    "where $c = (1.2n+0.9m)$ - cost of production\n",
    "<br>, s.t.<br>\n",
    "<br>\n",
    "$\\frac14n+\\frac13m<=90$ <br>\n",
    "$\\frac18n+\\frac13m<=80$ <br>\n",
    "$m,n>=0$"
   ]
  },
  {
   "cell_type": "markdown",
   "metadata": {},
   "source": [
    "I feel that it won't be correct to formulate this whole problem as LPP, because either company buys raw materials for more than 300$ or less. Instead, I suggest solving to distict LP problems: with and without the discont"
   ]
  },
  {
   "cell_type": "markdown",
   "metadata": {},
   "source": [
    "##### With discount:"
   ]
  },
  {
   "cell_type": "markdown",
   "metadata": {},
   "source": [
    "$$\\max(9n+8m-0.9(1.2n+0.9m))$$\n",
    "<center>, s.t. <br>\n",
    "<br>\n",
    "$$\\frac14n+\\frac13m<=90$$ <br>\n",
    "$$\\frac18n+\\frac13m<=80$$ <br>\n",
    "$$m,n>=0$$"
   ]
  },
  {
   "cell_type": "code",
   "execution_count": 12,
   "metadata": {},
   "outputs": [
    {
     "name": "stdout",
     "output_type": "stream",
     "text": [
      "status: optimal\n",
      "optimal value 2851.199988900705\n",
      "optimal n: 359.999995874\n",
      "optimal m: 3.0009176932e-06\n"
     ]
    }
   ],
   "source": [
    "n = Variable()\n",
    "m = Variable()\n",
    "\n",
    "\n",
    "constraints=[(n/4)+(m/3)<=90, (n/8)+(m/3)<=80,m>=0,n>=0]\n",
    "obj = Maximize(9*n+8*m-0.9*(1.2*n+0.9*m)) #so, we want the total power to be as small as possibe\n",
    "prob = Problem(obj, constraints)\n",
    "prob.solve()\n",
    "\n",
    "print(\"status:\", prob.status)\n",
    "print(\"optimal value\", prob.value)\n",
    "print(\"optimal n:\", n.value)\n",
    "print(\"optimal m:\", m.value)"
   ]
  },
  {
   "cell_type": "markdown",
   "metadata": {},
   "source": [
    "##### Without discount:"
   ]
  },
  {
   "cell_type": "markdown",
   "metadata": {},
   "source": [
    "Without discount this problem just turns into that one, we solved in Part 1."
   ]
  },
  {
   "cell_type": "markdown",
   "metadata": {},
   "source": [
    "## Problem 4"
   ]
  },
  {
   "cell_type": "markdown",
   "metadata": {
    "collapsed": true
   },
   "source": [
    "<img src=\"problem_4_1.jpg\">\n",
    "<img src=\"problem_4_2.jpg\">"
   ]
  }
 ],
 "metadata": {
  "kernelspec": {
   "display_name": "Python 3",
   "language": "python",
   "name": "python3"
  },
  "language_info": {
   "codemirror_mode": {
    "name": "ipython",
    "version": 3
   },
   "file_extension": ".py",
   "mimetype": "text/x-python",
   "name": "python",
   "nbconvert_exporter": "python",
   "pygments_lexer": "ipython3",
   "version": "3.6.3"
  }
 },
 "nbformat": 4,
 "nbformat_minor": 2
}
